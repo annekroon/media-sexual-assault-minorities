{
 "cells": [
  {
   "cell_type": "code",
   "execution_count": 1,
   "metadata": {},
   "outputs": [],
   "source": [
    "import pandas as pd\n",
    "import numpy as np\n",
    "import gensim"
   ]
  },
  {
   "cell_type": "code",
   "execution_count": 72,
   "metadata": {},
   "outputs": [],
   "source": [
    "#check how often words occur in the vocabulary of the model\n",
    "#basepath  = \"embedding_models/media-sexual-abuse/models/w2v_adtrouwtelnrcvk_2008_2013\"\n",
    "#model = gensim.models.Word2Vec.load(basepath)\n",
    "#model.wv.vocab[\"eerwraak\"].count"
   ]
  },
  {
   "cell_type": "code",
   "execution_count": 19,
   "metadata": {},
   "outputs": [],
   "source": [
    "#model.most_similar(negative=['oudere'], positive=['jongere'])"
   ]
  },
  {
   "cell_type": "code",
   "execution_count": null,
   "metadata": {},
   "outputs": [],
   "source": [
    "#model.most_similar(positive='verkrachtingen', topn=100)"
   ]
  },
  {
   "cell_type": "code",
   "execution_count": 2,
   "metadata": {},
   "outputs": [],
   "source": [
    "PATH = 'output/'"
   ]
  },
  {
   "cell_type": "code",
   "execution_count": 4,
   "metadata": {},
   "outputs": [
    {
     "data": {
      "text/plain": [
       "word2vec_score   -0.050081\n",
       "dtype: float64"
      ]
     },
     "execution_count": 4,
     "metadata": {},
     "output_type": "execute_result"
    }
   ],
   "source": [
    "dutch_neg = pd.read_csv(PATH + 'dutch_neg_gensimscores.csv')\n",
    "dutch_neg.agg({'word2vec_score': np.mean})"
   ]
  },
  {
   "cell_type": "code",
   "execution_count": 7,
   "metadata": {},
   "outputs": [],
   "source": [
    "ref_neg = pd.read_csv(PATH + 'ref_neg_gensimscores.csv')\n",
    "\n",
    "def nationality(x):\n",
    "    return x.split(',')[1][2:6]\n",
    "\n",
    "ref_neg['target'] = ref_neg['pair'].map(nationality)\n",
    "ref_neg['membership'] = \"refugees\"\n",
    "ref_neg['types'] = \"group\"\n",
    "ref_neg['id'] = \"refugees\""
   ]
  },
  {
   "cell_type": "code",
   "execution_count": 8,
   "metadata": {},
   "outputs": [],
   "source": [
    "arab_neg = pd.read_csv(PATH + 'arab_neg_gensimscores.csv')\n",
    "\n",
    "def nationality_names(x):\n",
    "    return x.split(',')[1][:-1].replace(\"'\", \"\").strip().capitalize()\n",
    "\n",
    "arab_neg['target'] = arab_neg['pair'].map(nationality_names)\n",
    "arab_neg['membership'] = \"refugees\"\n",
    "arab_neg['types'] = \"names\"\n",
    "arab_neg['id'] = \"arab names\"\n"
   ]
  },
  {
   "cell_type": "code",
   "execution_count": 12,
   "metadata": {},
   "outputs": [],
   "source": [
    "ingroup_neg = pd.read_csv(PATH + 'ingroup_neg_gensimscores.csv')\n",
    "\n",
    "def nationality(x):\n",
    "    return x.split(',')[1][2:5]\n",
    "\n",
    "ingroup_neg['target'] = ingroup_neg['pair'].map(nationality)\n",
    "ingroup_neg['membership'] = \"ingroup\"\n",
    "ingroup_neg['types'] = \"group\"\n",
    "ingroup_neg['id'] = \"ingroup members\"\n"
   ]
  },
  {
   "cell_type": "code",
   "execution_count": 13,
   "metadata": {},
   "outputs": [],
   "source": [
    "dutch_neg = pd.read_csv(PATH + 'dutch_neg_gensimscores.csv')\n",
    "\n",
    "dutch_neg['target'] = dutch_neg['pair'].map(nationality_names)\n",
    "dutch_neg['membership'] = \"ingroup\"\n",
    "dutch_neg['types'] = \"names\"\n",
    "dutch_neg['id'] = \"dutch names\"\n",
    "\n"
   ]
  },
  {
   "cell_type": "code",
   "execution_count": 19,
   "metadata": {},
   "outputs": [],
   "source": [
    "agg_df_neg = pd.concat([ingroup_neg, ref_neg, arab_neg, dutch_neg])\n",
    "agg_df_neg['valence'] = 'neg'\n"
   ]
  },
  {
   "cell_type": "code",
   "execution_count": 18,
   "metadata": {},
   "outputs": [],
   "source": [
    "result = pd.concat([ingroup_neg, ref_neg, arab_neg, dutch_neg])"
   ]
  },
  {
   "cell_type": "code",
   "execution_count": 20,
   "metadata": {},
   "outputs": [],
   "source": [
    "from scipy.stats import ttest_ind\n",
    "\n",
    "def get_ttest(result , cat):\n",
    "    r1 = result[(result['todate'] == 2013 ) &  ( result['id'] == cat ) ]\n",
    "    r2 = result[(result['todate'] == 2018 ) &  ( result['id'] == cat ) ]\n",
    "    ref_results = ttest_ind(r1['word2vec_score'], r2['word2vec_score'])\n",
    "    return print(\"for the group: {} t = {:.3f}, p = {:.3f}\".format(cat.capitalize(), *ref_results))\n"
   ]
  },
  {
   "cell_type": "code",
   "execution_count": 21,
   "metadata": {},
   "outputs": [],
   "source": [
    "recode = {\"dui\":\"German\",\n",
    "\"ned\":\"Dutch\",\n",
    "\"bel\":\"Belgian\",\n",
    "\"eur\":\"European\",\n",
    "\"immi\":\"Immigrat\",\n",
    "\"syri\":\"Syrian\",\n",
    "\"migr\":\"Migrant\",\n",
    "\"paki\":\"Pakistani\",\n",
    "\"gamb\":\"Gambian\",\n",
    "\"nige\":\"Nigerian\",\n",
    "\"sene\":\"Senegalese\",\n",
    "\"irak\":\"Iraqi\",\n",
    "\"afgh\":\"Afghan\",\n",
    "\"erit\":\"Eritrean\",\n",
    "\"vluc\":\"Refugees\",\n",
    "\"soma\":\"Somali\",\n",
    "\"beng\":\"Bengali\",\n",
    "\"bang\":\"Bengali\",\n",
    "\"soed\":\"Sudanese\",\n",
    "\"allo\":\"Foreigner\", \n",
    "\"fra\": \"France\", \n",
    "\"lux\": \"Luxembourg\"}  \n",
    "                                \n",
    "result['target'] = result['target'].replace(recode)\n"
   ]
  },
  {
   "cell_type": "code",
   "execution_count": 22,
   "metadata": {},
   "outputs": [],
   "source": [
    "result['Time Period'] = result['todate']\n",
    "#recode_time = { 2018 : '2014 - 2018' , 2013 : '1991 - 2013'}\n",
    "recode_time = { 2018 : '2014 - 2018' , 2013 : '2008 - 2013'}\n",
    "result['Time Period'] = result['Time Period'].replace(recode_time)"
   ]
  },
  {
   "cell_type": "code",
   "execution_count": 23,
   "metadata": {},
   "outputs": [
    {
     "data": {
      "text/plain": [
       "Time Period  id             \n",
       "2008 - 2013  arab names         0.144335\n",
       "             dutch names       -0.039726\n",
       "             ingroup members   -0.019548\n",
       "             refugees           0.125601\n",
       "2014 - 2018  arab names         0.172689\n",
       "             dutch names       -0.060436\n",
       "             ingroup members   -0.014741\n",
       "             refugees           0.131137\n",
       "Name: word2vec_score, dtype: float64"
      ]
     },
     "execution_count": 23,
     "metadata": {},
     "output_type": "execute_result"
    }
   ],
   "source": [
    "result.groupby(['Time Period', 'id'])['word2vec_score'].mean()"
   ]
  },
  {
   "cell_type": "code",
   "execution_count": null,
   "metadata": {},
   "outputs": [],
   "source": [
    "#result"
   ]
  },
  {
   "cell_type": "code",
   "execution_count": 24,
   "metadata": {},
   "outputs": [
    {
     "data": {
      "text/plain": [
       "<seaborn.axisgrid.FacetGrid at 0x12d901ac8>"
      ]
     },
     "execution_count": 24,
     "metadata": {},
     "output_type": "execute_result"
    }
   ],
   "source": [
    "import seaborn as sns\n",
    "#sns.catplot(data=result, x = 'word2vec_score', hue = 'membership')\n",
    "sns.catplot(x=\"membership\", y=\"word2vec_score\",  hue='todate', data=result[result['types'] == 'names'], kind=\"bar\",  color=\"b\")"
   ]
  },
  {
   "cell_type": "markdown",
   "metadata": {},
   "source": [
    "## t test between groups"
   ]
  },
  {
   "cell_type": "code",
   "execution_count": 25,
   "metadata": {},
   "outputs": [
    {
     "name": "stdout",
     "output_type": "stream",
     "text": [
      "for the group: Arab names t = -4.083, p = 0.000\n",
      "for the group: Dutch names t = 4.338, p = 0.000\n",
      "for the group: Refugees t = -1.212, p = 0.226\n",
      "for the group: Ingroup members t = -1.047, p = 0.295\n"
     ]
    }
   ],
   "source": [
    "get_ttest(result, 'arab names')\n",
    "get_ttest(result, 'dutch names')\n",
    "get_ttest(result, 'refugees')\n",
    "get_ttest(result, 'ingroup members')"
   ]
  },
  {
   "cell_type": "code",
   "execution_count": 26,
   "metadata": {},
   "outputs": [
    {
     "data": {
      "image/png": "[encoded data removed]",
      "text/plain": [
       "<Figure size 842.4x595.44 with 1 Axes>"
      ]
     },
     "metadata": {
      "needs_background": "light"
     },
     "output_type": "display_data"
    }
   ],
   "source": [
    "import seaborn as sns\n",
    "from matplotlib import pyplot as plt\n",
    "from matplotlib import pyplot\n",
    "\n",
    "a4_dims = (11.7, 8.27)\n",
    "fig, ax = pyplot.subplots(figsize=a4_dims)\n",
    "\n",
    "seq_col_brew = sns.color_palette(\"Greys_r\", 2)\n",
    "sns.set_palette(seq_col_brew)\n",
    "\n",
    "# Just switch x and y\n",
    "order_ =[\"Afghan\",\n",
    "\"Bengali\",\n",
    "\"Eritrean\",\n",
    "\"Gambian\",\n",
    "\"Iraqi\",\n",
    "\"Nigerian\",\n",
    "\"Pakistani\",\n",
    "\"Refugees\",\n",
    "\"Senegalese\",\n",
    "\"Somali\",\n",
    "\"Sudanese\",\n",
    "\"Syrian\",\n",
    "\"Immigrat\",\n",
    "\"Migrant\",\n",
    "\"Foreigner\",\n",
    "\"Luxembourg\" , \n",
    "\"France\",\n",
    "\"Dutch\",\n",
    "\"Belgian\",\n",
    "\"German\",\n",
    "\"European\" ]\n",
    "\n",
    "#sns.boxplot(x=\"target\", y=\"word2vec_score\", data=ref_neg, palette=\"Set1\")\n",
    "a = sns.pointplot(x=\"target\", y=\"word2vec_score\", hue='Time Period', join=False, data=result[result['types'] == 'group'], order = order_ ,   palette=\"Set2\", height=20)\n",
    "a.set(xlabel='Out-group ethnicities and labels (Left) and ingroup ethnicities (Right)', ylabel='Sexual Threat')\n",
    "\n",
    "plt.axvline(14.5, 0, 1.2, color='k', linestyle='--')\n",
    "\n",
    "for item in a.get_xticklabels():\n",
    "    item.set_rotation(45)"
   ]
  },
  {
   "cell_type": "code",
   "execution_count": 27,
   "metadata": {},
   "outputs": [
    {
     "data": {
      "image/png": "[encoded data removed]",
      "text/plain": [
       "<Figure size 842.4x595.44 with 1 Axes>"
      ]
     },
     "metadata": {
      "needs_background": "light"
     },
     "output_type": "display_data"
    }
   ],
   "source": [
    "import seaborn as sns\n",
    "from matplotlib import pyplot as plt\n",
    "from matplotlib import pyplot\n",
    "\n",
    "a4_dims = (11.7, 8.27)\n",
    "fig, ax = pyplot.subplots(figsize=a4_dims)\n",
    "\n",
    "seq_col_brew = sns.color_palette(\"Greys_r\", 2)\n",
    "sns.set_palette(seq_col_brew)\n",
    "\n",
    "# Just switch x and y\n",
    "order_ =[\"Afghan\",\n",
    "\"Bengali\",\n",
    "\"Eritrean\",\n",
    "\"Gambian\",\n",
    "\"Iraqi\",\n",
    "\"Nigerian\",\n",
    "\"Pakistani\",\n",
    "\"Refugees\",\n",
    "\"Senegalese\",\n",
    "\"Somali\",\n",
    "\"Sudanese\",\n",
    "\"Syrian\",\n",
    "\"Immigrat\",\n",
    "\"Migrant\",\n",
    "\"Foreigner\",\n",
    "\"France\",\n",
    "\"Dutch\",\n",
    "\"Belgian\",\n",
    "\"German\",\n",
    "\"European\" ]\n",
    "\n",
    "#sns.boxplot(x=\"target\", y=\"word2vec_score\", data=ref_neg, palette=\"Set1\")\n",
    "a = sns.pointplot(x=\"target\", y=\"word2vec_score\", hue='Time Period', join=False, data=result[result['types'] == 'group'], order = order_ ,   palette=\"Set2\", height=20)\n",
    "a.set(xlabel='Out-group ethnicities and labels (Left) and ingroup ethnicities (Right)', ylabel='Sexual Threat')\n",
    "\n",
    "plt.axvline(14.5, 0, 1.2, color='k', linestyle='--')\n",
    "\n",
    "for item in a.get_xticklabels():\n",
    "    item.set_rotation(45)"
   ]
  },
  {
   "cell_type": "code",
   "execution_count": 64,
   "metadata": {},
   "outputs": [],
   "source": [
    "#results.reset_index(inplace=True)\n",
    "#agg_df_neg"
   ]
  },
  {
   "cell_type": "code",
   "execution_count": 29,
   "metadata": {},
   "outputs": [
    {
     "data": {
      "image/png": "[encoded data removed]",
      "text/plain": [
       "<Figure size 1152x595.44 with 1 Axes>"
      ]
     },
     "metadata": {
      "needs_background": "light"
     },
     "output_type": "display_data"
    }
   ],
   "source": [
    "import seaborn as sns\n",
    "from matplotlib import pyplot as plt\n",
    "from matplotlib import pyplot\n",
    "\n",
    "a4_dims = (16, 8.27)\n",
    "fig, ax = pyplot.subplots(figsize=a4_dims)\n",
    "\n",
    "seq_col_brew = sns.color_palette(\"Greys_r\", 2)\n",
    "sns.set_palette(seq_col_brew)\n",
    "# Just switch x and y\n",
    "\n",
    "#sns.boxplot(x=\"target\", y=\"word2vec_score\", data=ref_neg, palette=\"Set1\")\n",
    "a = sns.pointplot(x=\"target\", y=\"word2vec_score\", \n",
    "                  hue='todate', join=False, \n",
    "                  data=agg_df_neg[agg_df_neg['types'] == 'names'], height=20)\n",
    "\n",
    "a.set(xlabel='Arabic (Left) and Dutch (Right) Names', ylabel='Sexual Threat')\n",
    "\n",
    "plt.axvline(16.5, 0, 1.2, color='k', linestyle='--')\n",
    "\n",
    "for item in a.get_xticklabels():\n",
    "    item.set_rotation(45)"
   ]
  },
  {
   "cell_type": "code",
   "execution_count": 30,
   "metadata": {},
   "outputs": [
    {
     "data": {
      "text/plain": [
       "1470"
      ]
     },
     "execution_count": 30,
     "metadata": {},
     "output_type": "execute_result"
    }
   ],
   "source": [
    "len(result[result['types'] == \"names\"])"
   ]
  },
  {
   "cell_type": "code",
   "execution_count": 31,
   "metadata": {},
   "outputs": [
    {
     "name": "stderr",
     "output_type": "stream",
     "text": [
      "/Library/Frameworks/Python.framework/Versions/3.7/lib/python3.7/site-packages/statsmodels/compat/pandas.py:49: FutureWarning: The Panel class is removed from pandas. Accessing it from the top-level namespace will also be removed in the next version\n",
      "  data_klasses = (pandas.Series, pandas.DataFrame, pandas.Panel)\n"
     ]
    }
   ],
   "source": [
    "import statsmodels.api as sm\n",
    "import statsmodels.formula.api as smf"
   ]
  },
  {
   "cell_type": "code",
   "execution_count": 32,
   "metadata": {},
   "outputs": [
    {
     "data": {
      "text/plain": [
       "1470"
      ]
     },
     "execution_count": 32,
     "metadata": {},
     "output_type": "execute_result"
    }
   ],
   "source": [
    "names = result[result['types'] == \"names\"]\n",
    "len(names)"
   ]
  },
  {
   "cell_type": "code",
   "execution_count": 33,
   "metadata": {},
   "outputs": [],
   "source": [
    "group = result[result['types'] == \"group\"]"
   ]
  },
  {
   "cell_type": "code",
   "execution_count": 34,
   "metadata": {},
   "outputs": [
    {
     "name": "stderr",
     "output_type": "stream",
     "text": [
      "/Library/Frameworks/Python.framework/Versions/3.7/lib/python3.7/site-packages/statsmodels/regression/mixed_linear_model.py:2045: ConvergenceWarning: The MLE may be on the boundary of the parameter space.\n",
      "  warnings.warn(msg, ConvergenceWarning)\n",
      "/Library/Frameworks/Python.framework/Versions/3.7/lib/python3.7/site-packages/statsmodels/base/model.py:508: ConvergenceWarning: Maximum Likelihood optimization failed to converge. Check mle_retvals\n",
      "  \"Check mle_retvals\", ConvergenceWarning)\n",
      "/Library/Frameworks/Python.framework/Versions/3.7/lib/python3.7/site-packages/statsmodels/base/model.py:508: ConvergenceWarning: Maximum Likelihood optimization failed to converge. Check mle_retvals\n",
      "  \"Check mle_retvals\", ConvergenceWarning)\n",
      "/Library/Frameworks/Python.framework/Versions/3.7/lib/python3.7/site-packages/statsmodels/base/model.py:508: ConvergenceWarning: Maximum Likelihood optimization failed to converge. Check mle_retvals\n",
      "  \"Check mle_retvals\", ConvergenceWarning)\n",
      "/Library/Frameworks/Python.framework/Versions/3.7/lib/python3.7/site-packages/statsmodels/base/model.py:508: ConvergenceWarning: Maximum Likelihood optimization failed to converge. Check mle_retvals\n",
      "  \"Check mle_retvals\", ConvergenceWarning)\n"
     ]
    },
    {
     "name": "stdout",
     "output_type": "stream",
     "text": [
      "              Mixed Linear Model Regression Results\n",
      "=================================================================\n",
      "Model:               MixedLM  Dependent Variable:  word2vec_score\n",
      "No. Observations:    1470     Method:              REML          \n",
      "No. Groups:          35       Scale:               0.0056        \n",
      "Min. group size:     42       Likelihood:          1678.4083     \n",
      "Max. group size:     42       Converged:           Yes           \n",
      "Mean group size:     42.0                                        \n",
      "-----------------------------------------------------------------\n",
      "                       Coef.  Std.Err.   z    P>|z| [0.025 0.975]\n",
      "-----------------------------------------------------------------\n",
      "Intercept              -1.308    1.570 -0.834 0.405 -4.385  1.768\n",
      "membership[T.refugees]  0.209    0.012 18.113 0.000  0.186  0.231\n",
      "todate                  0.001    0.001  0.802 0.423 -0.001  0.002\n",
      "Group Var               0.001    0.004                           \n",
      "=================================================================\n",
      "                    Mixed Linear Model Regression Results\n",
      "===========================================================================\n",
      "Model:                 MixedLM      Dependent Variable:      word2vec_score\n",
      "No. Observations:      1470         Method:                  REML          \n",
      "No. Groups:            35           Scale:                   0.0054        \n",
      "Min. group size:       42           Likelihood:              1692.8398     \n",
      "Max. group size:       42           Converged:               No            \n",
      "Mean group size:       42.0                                                \n",
      "---------------------------------------------------------------------------\n",
      "                               Coef.  Std.Err.   z    P>|z|  [0.025  0.975]\n",
      "---------------------------------------------------------------------------\n",
      "Intercept                       8.298    2.156  3.849 0.000   4.072  12.524\n",
      "membership[T.refugees]        -19.569    3.094 -6.326 0.000 -25.632 -13.506\n",
      "todate                         -0.004    0.001 -3.872 0.000  -0.006  -0.002\n",
      "membership[T.refugees]:todate   0.010    0.002  6.393 0.000   0.007   0.013\n",
      "Group Var                       0.001    0.005                             \n",
      "===========================================================================\n",
      "\n"
     ]
    },
    {
     "name": "stderr",
     "output_type": "stream",
     "text": [
      "/Library/Frameworks/Python.framework/Versions/3.7/lib/python3.7/site-packages/statsmodels/base/model.py:508: ConvergenceWarning: Maximum Likelihood optimization failed to converge. Check mle_retvals\n",
      "  \"Check mle_retvals\", ConvergenceWarning)\n",
      "/Library/Frameworks/Python.framework/Versions/3.7/lib/python3.7/site-packages/statsmodels/regression/mixed_linear_model.py:2026: ConvergenceWarning: Gradient optimization failed.\n",
      "  warnings.warn(msg, ConvergenceWarning)\n",
      "/Library/Frameworks/Python.framework/Versions/3.7/lib/python3.7/site-packages/statsmodels/regression/mixed_linear_model.py:2045: ConvergenceWarning: The MLE may be on the boundary of the parameter space.\n",
      "  warnings.warn(msg, ConvergenceWarning)\n"
     ]
    }
   ],
   "source": [
    "md = smf.mixedlm(\"word2vec_score ~ membership + todate \", names, groups=names[\"target\"])\n",
    "mdf_1 = md.fit(method=\"cg\")\n",
    "\n",
    "md = smf.mixedlm(\"word2vec_score ~ membership * todate \", names, groups=names[\"target\"])\n",
    "mdf_2 = md.fit(method=\"cg\")\n",
    "\n",
    "print(mdf_1.summary(), mdf_2.summary())"
   ]
  },
  {
   "cell_type": "code",
   "execution_count": 35,
   "metadata": {},
   "outputs": [
    {
     "name": "stderr",
     "output_type": "stream",
     "text": [
      "/Library/Frameworks/Python.framework/Versions/3.7/lib/python3.7/site-packages/statsmodels/base/model.py:508: ConvergenceWarning: Maximum Likelihood optimization failed to converge. Check mle_retvals\n",
      "  \"Check mle_retvals\", ConvergenceWarning)\n",
      "/Library/Frameworks/Python.framework/Versions/3.7/lib/python3.7/site-packages/statsmodels/base/model.py:508: ConvergenceWarning: Maximum Likelihood optimization failed to converge. Check mle_retvals\n",
      "  \"Check mle_retvals\", ConvergenceWarning)\n",
      "/Library/Frameworks/Python.framework/Versions/3.7/lib/python3.7/site-packages/statsmodels/base/model.py:508: ConvergenceWarning: Maximum Likelihood optimization failed to converge. Check mle_retvals\n",
      "  \"Check mle_retvals\", ConvergenceWarning)\n",
      "/Library/Frameworks/Python.framework/Versions/3.7/lib/python3.7/site-packages/statsmodels/base/model.py:508: ConvergenceWarning: Maximum Likelihood optimization failed to converge. Check mle_retvals\n",
      "  \"Check mle_retvals\", ConvergenceWarning)\n",
      "/Library/Frameworks/Python.framework/Versions/3.7/lib/python3.7/site-packages/statsmodels/base/model.py:508: ConvergenceWarning: Maximum Likelihood optimization failed to converge. Check mle_retvals\n",
      "  \"Check mle_retvals\", ConvergenceWarning)\n",
      "/Library/Frameworks/Python.framework/Versions/3.7/lib/python3.7/site-packages/statsmodels/regression/mixed_linear_model.py:2026: ConvergenceWarning: Gradient optimization failed.\n",
      "  warnings.warn(msg, ConvergenceWarning)\n",
      "/Library/Frameworks/Python.framework/Versions/3.7/lib/python3.7/site-packages/statsmodels/regression/mixed_linear_model.py:2045: ConvergenceWarning: The MLE may be on the boundary of the parameter space.\n",
      "  warnings.warn(msg, ConvergenceWarning)\n"
     ]
    }
   ],
   "source": [
    "import statsmodels.api as sm  \n",
    "\n",
    "model = sm.MixedLM.from_formula(\"word2vec_score ~ membership * todate\", groups=names[\"target\"], data=names)                                                                \n",
    "result = model.fit(method=\"cg\") "
   ]
  },
  {
   "cell_type": "code",
   "execution_count": null,
   "metadata": {},
   "outputs": [],
   "source": [
    "group"
   ]
  },
  {
   "cell_type": "code",
   "execution_count": 71,
   "metadata": {},
   "outputs": [
    {
     "name": "stderr",
     "output_type": "stream",
     "text": [
      "/Library/Frameworks/Python.framework/Versions/3.7/lib/python3.7/site-packages/statsmodels/regression/mixed_linear_model.py:2045: ConvergenceWarning: The MLE may be on the boundary of the parameter space.\n",
      "  warnings.warn(msg, ConvergenceWarning)\n"
     ]
    },
    {
     "name": "stdout",
     "output_type": "stream",
     "text": [
      "              Mixed Linear Model Regression Results\n",
      "=================================================================\n",
      "Model:               MixedLM  Dependent Variable:  word2vec_score\n",
      "No. Observations:    2772     Method:              REML          \n",
      "No. Groups:          21       Scale:               0.0070        \n",
      "Min. group size:     84       Likelihood:          2892.5859     \n",
      "Max. group size:     168      Converged:           Yes           \n",
      "Mean group size:     132.0                                       \n",
      "-----------------------------------------------------------------\n",
      "                       Coef.  Std.Err.   z    P>|z| [0.025 0.975]\n",
      "-----------------------------------------------------------------\n",
      "Intercept              -2.157    1.284 -1.680 0.093 -4.674  0.359\n",
      "membership[T.refugees]  0.149    0.017  8.607 0.000  0.115  0.183\n",
      "todate                  0.001    0.001  1.665 0.096 -0.000  0.002\n",
      "Group Var               0.001    0.005                           \n",
      "=================================================================\n",
      "                  Mixed Linear Model Regression Results\n",
      "========================================================================\n",
      "Model:                MixedLM     Dependent Variable:     word2vec_score\n",
      "No. Observations:     2772        Method:                 REML          \n",
      "No. Groups:           21          Scale:                  0.0070        \n",
      "Min. group size:      84          Likelihood:             2886.9160     \n",
      "Max. group size:      168         Converged:              Yes           \n",
      "Mean group size:      132.0                                             \n",
      "------------------------------------------------------------------------\n",
      "                              Coef.  Std.Err.   z    P>|z| [0.025 0.975]\n",
      "------------------------------------------------------------------------\n",
      "Intercept                     -1.957    2.277 -0.860 0.390 -6.419  2.505\n",
      "membership[T.refugees]        -0.144    2.757 -0.052 0.958 -5.548  5.259\n",
      "todate                         0.001    0.001  0.851 0.395 -0.001  0.003\n",
      "membership[T.refugees]:todate  0.000    0.001  0.106 0.915 -0.003  0.003\n",
      "Group Var                      0.001    0.005                           \n",
      "========================================================================\n",
      "\n"
     ]
    },
    {
     "name": "stderr",
     "output_type": "stream",
     "text": [
      "/Library/Frameworks/Python.framework/Versions/3.7/lib/python3.7/site-packages/statsmodels/regression/mixed_linear_model.py:2045: ConvergenceWarning: The MLE may be on the boundary of the parameter space.\n",
      "  warnings.warn(msg, ConvergenceWarning)\n"
     ]
    }
   ],
   "source": [
    "md = smf.mixedlm(\"word2vec_score ~ membership + todate \", group, groups=group[\"target\"])\n",
    "mdf_1 = md.fit(method=\"cg\")\n",
    "\n",
    "md = smf.mixedlm(\"word2vec_score ~ membership * todate \", group, groups=group[\"target\"])\n",
    "mdf_2 = md.fit(method=\"cg\")\n",
    "\n",
    "print(mdf_1.summary(), mdf_2.summary())"
   ]
  },
  {
   "cell_type": "code",
   "execution_count": null,
   "metadata": {},
   "outputs": [],
   "source": [
    "md = smf.mixedlm(\"word2vec_score ~ membership + todate \", names, groups=names[\"target\"])\n",
    "mdf_1 = md.fit(method=\"cg\")\n",
    "\n",
    "md = smf.mixedlm(\"word2vec_score ~ membership * todate \", names, groups=names[\"target\"])\n",
    "mdf_2 = md.fit(method=\"cg\")\n",
    "\n",
    "print(mdf_1.summary(), mdf_2.summary())"
   ]
  },
  {
   "cell_type": "code",
   "execution_count": null,
   "metadata": {},
   "outputs": [],
   "source": [
    "md = smf.mixedlm(\"word2vec_score\", group, groups=group[\"target\"])\n",
    "mdf_1 = md.fit(method=\"cg\")"
   ]
  },
  {
   "cell_type": "code",
   "execution_count": null,
   "metadata": {},
   "outputs": [],
   "source": [
    "md = smf.mixedlm(\"word2vec_score ~ membership + todate\", group, groups=group[\"target\"])\n",
    "mdf = md.fit(method=\"lbfgs\")"
   ]
  },
  {
   "cell_type": "code",
   "execution_count": null,
   "metadata": {},
   "outputs": [],
   "source": [
    "md = smf.mixedlm(\"word2vec_score ~ membership * todate\", group, groups=group[\"target\"])\n",
    "mdf = md.fit()"
   ]
  },
  {
   "cell_type": "code",
   "execution_count": null,
   "metadata": {},
   "outputs": [],
   "source": [
    "print(mdf.summary())"
   ]
  },
  {
   "cell_type": "code",
   "execution_count": null,
   "metadata": {},
   "outputs": [],
   "source": [
    "import seaborn as sns\n",
    "from matplotlib import pyplot as plt\n",
    "from matplotlib import pyplot\n",
    "\n",
    "a4_dims = (11.7, 8.27)\n",
    "fig, ax = pyplot.subplots(figsize=a4_dims)\n",
    "\n",
    "\n",
    "# Just switch x and y\n",
    "order_ =['Dutch', 'German', 'Belgian', 'European', 'Nigerian', \n",
    "       'Malian', 'Somali', 'Eritrean',  'Senegalees',\n",
    "       'Syrian', 'Afghan', 'Foreigner', 'Refugee', 'Immigrant', 'Migrant']\n",
    "\n",
    "#sns.boxplot(x=\"target\", y=\"word2vec_score\", data=ref_neg, palette=\"Set1\")\n",
    "a = sns.pointplot(x=\"target\", y=\"word2vec_score\", \n",
    "                  hue='todate', join=False, data=result, col = 'types', palette=\"Set1\", height=20)\n",
    "for item in a.get_xticklabels():\n",
    "    item.set_rotation(45)\n"
   ]
  },
  {
   "cell_type": "code",
   "execution_count": null,
   "metadata": {},
   "outputs": [],
   "source": [
    "result['target'].unique()"
   ]
  },
  {
   "cell_type": "code",
   "execution_count": null,
   "metadata": {},
   "outputs": [],
   "source": [
    "result"
   ]
  },
  {
   "cell_type": "code",
   "execution_count": null,
   "metadata": {},
   "outputs": [],
   "source": [
    "# Select which box you want to change    \n",
    "plt.figure(figsize=(15,8))\n",
    "\n",
    "sns.set(style=\"ticks\", font='Roboto Condensed')\n",
    "#sns.set_palette(\"cubehelix\", 4)\n",
    "\n",
    "seq_col_brew = sns.color_palette(\"Greys_r\", 2)\n",
    "sns.set_palette(seq_col_brew)\n",
    "\n",
    "sns.set_context(\"paper\", font_scale=1.1, rc={\"lines.linewidth\": 1.1})\n",
    "g=sns.catplot(x=\"target\", y=\"word2vec_score\", hue=\"todate\", \n",
    "                 data = result, kind=\"bar\")\n",
    "sns.despine(trim=True)\n",
    "\n",
    "g.savefig('test6.png', format='png', dpi=600)"
   ]
  },
  {
   "cell_type": "code",
   "execution_count": null,
   "metadata": {},
   "outputs": [],
   "source": [
    "# Select which box you want to change    \n",
    "sns.set(style=\"ticks\", font='Roboto Condensed')\n",
    "#sns.set_palette(\"cubehelix\", 4)\n",
    "\n",
    "seq_col_brew = sns.color_palette(\"Greys_r\", 2)\n",
    "sns.set_palette(seq_col_brew)\n",
    "\n",
    "sns.set_context(\"paper\", font_scale=1.1, rc={\"lines.linewidth\": 1.1})\n",
    "g=sns.catplot(x=\"membership\", y=\"word2vec_score\", hue=\"todate\", col = 'types', \n",
    "                 data = result, kind=\"bar\", height=14, \n",
    "                 width=0.5,fliersize=2.5,linewidth=1.1, notch=False)\n",
    "sns.despine(trim=True)\n",
    "\n",
    "plt.axvline(3.5, 0, 1.2, color='k', linestyle='--')\n",
    "g.savefig('test6.png', format='png', dpi=600)"
   ]
  },
  {
   "cell_type": "code",
   "execution_count": null,
   "metadata": {},
   "outputs": [],
   "source": [
    "# Select which box you want to change    \n",
    "sns.set(style=\"ticks\", font='Roboto Condensed')\n",
    "#sns.set_palette(\"cubehelix\", 4)\n",
    "\n",
    "seq_col_brew = sns.color_palette(\"Greys_r\", 2)\n",
    "sns.set_palette(seq_col_brew)\n",
    "\n",
    "sns.set_context(\"paper\", font_scale=1.1, rc={\"lines.linewidth\": 1.1})\n",
    "g=sns.factorplot(x=\"target\", y=\"word2vec_score\", hue=\"todate\",\n",
    "                 data = result, kind=\"box\", height=14, \n",
    "                 width=0.5,fliersize=2.5,linewidth=1.1, notch=False)\n",
    "sns.despine(trim=True)\n",
    "\n",
    "plt.axvline(3.5, 0, 0.6, color='k', linestyle='--')\n",
    "g.savefig('test6.png', format='png', dpi=600)\n"
   ]
  },
  {
   "cell_type": "code",
   "execution_count": null,
   "metadata": {},
   "outputs": [],
   "source": [
    "# Select which box you want to change    \n",
    "sns.set(style=\"ticks\", palette='Set2', font='Roboto Condensed')\n",
    "sns.set_context(\"paper\", font_scale=1.1, rc={\"lines.linewidth\": 1.1})\n",
    "g=sns.factorplot(x=\"target\", y=\"word2vec_score\", hue=\"todate\",\n",
    "                 data = result, kind=\"box\", height=14, \n",
    "                 width=0.5,fliersize=2.5,linewidth=1.1, notch=False)\n",
    "sns.despine(trim=True)\n",
    "g.savefig('test6.png', format='png', dpi=600)\n"
   ]
  },
  {
   "cell_type": "code",
   "execution_count": null,
   "metadata": {},
   "outputs": [],
   "source": [
    "ingroup_neg['target']"
   ]
  },
  {
   "cell_type": "code",
   "execution_count": null,
   "metadata": {},
   "outputs": [],
   "source": [
    "plt.figure(figsize=(20,10))\n",
    "plt.bar(agg_df_pos['target'], agg_df_pos['mean'], color=\"b\", yerr=agg_df_pos['std'] )"
   ]
  },
  {
   "cell_type": "code",
   "execution_count": null,
   "metadata": {},
   "outputs": [],
   "source": [
    "agg_df_pos.rename(columns={\"mean\": \"mean_pos\", \"std\": \"std_pos\"}, inplace = True)\n",
    "agg_df_neg.rename(columns={\"mean\": \"mean_neg\", \"std\": \"std_neg\"}, inplace = True)\n",
    "\n",
    "together = pd.merge(agg_df_pos, agg_df_neg, on='target')\n",
    "\n",
    "together = pd.merge(agg_df_pos, agg_df_neg, on='target')\n",
    "\n",
    "together['IAT'] = together['mean_neg'] - together['mean_pos']\n",
    "together"
   ]
  },
  {
   "cell_type": "code",
   "execution_count": null,
   "metadata": {
    "scrolled": true
   },
   "outputs": [],
   "source": [
    "together = pd.merge(agg_df_pos, agg_df_neg, on='target')\n",
    "\n",
    "together['IAT'] = together['mean_neg'] - together['mean_pos']\n",
    "together\n",
    "\n",
    "plt.figure(figsize=(20,10))\n",
    "plt.bar(together['target'], together['IAT'], color=\"b\" )"
   ]
  },
  {
   "cell_type": "code",
   "execution_count": null,
   "metadata": {},
   "outputs": [],
   "source": [
    "pos = nat_pos.groupby('target').agg({'word2vec_score': np.mean}).plot(kind=\"bar\", figsize=(20,10))"
   ]
  },
  {
   "cell_type": "code",
   "execution_count": null,
   "metadata": {},
   "outputs": [],
   "source": [
    "arab_pos = pd.read_csv(PATH + 'dutch_pos_gensimscores.csv')\n",
    "arab_pos.agg({'word2vec_score': np.mean})\n"
   ]
  },
  {
   "cell_type": "code",
   "execution_count": null,
   "metadata": {},
   "outputs": [],
   "source": [
    "fiets = '/Users/anne/repos/embedding_models/bigrams/w2v_adtrouw_2014_2018'\n",
    "kaas = '/Users/anne/repos/embedding_models/bigrams/w2v_adtrouw_1991_2013'\n"
   ]
  },
  {
   "cell_type": "code",
   "execution_count": null,
   "metadata": {},
   "outputs": [],
   "source": [
    "model = gensim.models.Word2Vec.load(fiets)\n"
   ]
  },
  {
   "cell_type": "code",
   "execution_count": null,
   "metadata": {},
   "outputs": [],
   "source": [
    "model2 = gensim.models.Word2Vec.load(kaas)\n"
   ]
  },
  {
   "cell_type": "code",
   "execution_count": null,
   "metadata": {},
   "outputs": [],
   "source": [
    "sentence_obama = 'Premier Mark Rutte vindt dat hij niets fout heeft gedaan toen hij het onafhankelijke Planbureau voor de Leefomgeving vroeg om de eerste doorrekening van het klimaatakkoord over Prinsjesdag heen te tillen. De minister-president zei woensdag in een Kamerdebat dat hij \"niets vreemds\" heeft gedaan.'\n",
    "sentence_president = 'verkracht aangerand vermoord'\n",
    "sentence_obama = sentence_obama.lower().split()\n",
    "sentence_president = sentence_president.lower().split()"
   ]
  },
  {
   "cell_type": "code",
   "execution_count": null,
   "metadata": {},
   "outputs": [],
   "source": [
    "model.init_sims(replace=True) \n"
   ]
  },
  {
   "cell_type": "code",
   "execution_count": null,
   "metadata": {},
   "outputs": [],
   "source": [
    "distance = model.wv.wmdistance(sentence_obama, sentence_president)\n",
    "print(distance)"
   ]
  },
  {
   "cell_type": "code",
   "execution_count": null,
   "metadata": {},
   "outputs": [],
   "source": [
    "#model.most_similar('vrouw', topn = 100)\n",
    "model.similarity('verkrachter', 'fiets')"
   ]
  },
  {
   "cell_type": "code",
   "execution_count": null,
   "metadata": {},
   "outputs": [],
   "source": [
    "import nltk\n",
    "import csv\n",
    "import string\n",
    "from gensim.models import Phrases\n",
    "from gensim.models import Word2Vec\n",
    "from nltk.corpus import stopwords\n",
    "import re\n",
    "\n",
    "FILENAME = 'short_test.txt'\n",
    "stopWords = stopwords.words('dutch')\n",
    "print(stopwords)\n",
    "\n",
    "sentences = [line.strip() for line in open(FILENAME).readlines() if len(line)>1 and len(line) < 500]\n",
    "for line in sentences:\n",
    "    if (len(line)) > 130:\n",
    "        print(line)\n",
    "#sentences = re.sub(r'[^A-Za-z0-9\\s.]',r'',str(sentences).lower())\n",
    "#sentences = re.sub(r'\\n',r' ',sentences)\n",
    "\n",
    "\n",
    "#sentences = \" \".join([word for word in sentence.split() for sentence in sentences if word not in stopWords])\n",
    "sentences = [\" \".join([w for w in sentence.split() if w not in stopWords]) for sentence in sentences]\n",
    "\n",
    "#tokenized_text = [nltk.word_tokenize(sentence) for sentence in sentences]\n",
    "#rint(tokenized_text)"
   ]
  },
  {
   "cell_type": "code",
   "execution_count": null,
   "metadata": {},
   "outputs": [],
   "source": [
    "bigram_model = Word2Vec(bigram[sentences], size=100)"
   ]
  },
  {
   "cell_type": "code",
   "execution_count": null,
   "metadata": {},
   "outputs": [],
   "source": [
    "model.most_similar(\"senegalees\")"
   ]
  },
  {
   "cell_type": "code",
   "execution_count": null,
   "metadata": {},
   "outputs": [],
   "source": [
    "#len(bigram_model.wv.vocab)\n",
    "model2.wv.vocab['david'].count\n",
    "\n"
   ]
  },
  {
   "cell_type": "code",
   "execution_count": null,
   "metadata": {},
   "outputs": [],
   "source": [
    "model.wv.vocab['david'].count\n",
    "\n"
   ]
  },
  {
   "cell_type": "code",
   "execution_count": null,
   "metadata": {},
   "outputs": [],
   "source": [
    "import collections\n",
    "\n",
    "bigram_counter = collections.Counter()\n",
    "for key in bigram.vocab.keys():\n",
    "    if key not in stopwords.words(\"dutch\"):\n",
    "        print(key)\n",
    "        if len(int(key.split(\"_\"))) > 1:\n",
    "            bigram_counter[key] += bigram.vocab[key]\n",
    "\n",
    "for key, counts in bigram_counter.most_common(20):\n",
    "    print ('{0: <20} {1}'.format(key.encode(\"utf-8\"), counts))\n"
   ]
  },
  {
   "cell_type": "code",
   "execution_count": null,
   "metadata": {},
   "outputs": [],
   "source": [
    "list(bigram[sentences])[:2]"
   ]
  }
 ],
 "metadata": {
  "kernelspec": {
   "display_name": "Python 3",
   "language": "python",
   "name": "python3"
  },
  "language_info": {
   "codemirror_mode": {
    "name": "ipython",
    "version": 3
   },
   "file_extension": ".py",
   "mimetype": "text/x-python",
   "name": "python",
   "nbconvert_exporter": "python",
   "pygments_lexer": "ipython3",
   "version": "3.7.2"
  }
 },
 "nbformat": 4,
 "nbformat_minor": 2
}
