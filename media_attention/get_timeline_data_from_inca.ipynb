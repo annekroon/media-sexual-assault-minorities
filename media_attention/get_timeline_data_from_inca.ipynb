{
 "cells": [
  {
   "cell_type": "code",
   "execution_count": 190,
   "metadata": {},
   "outputs": [
    {
     "name": "stderr",
     "output_type": "stream",
     "text": [
      "INFO:INCA:Providing verbose output\n"
     ]
    }
   ],
   "source": [
    "from inca import Inca\n",
    "myinca = Inca()\n",
    "import glob\n",
    "import os\n",
    "import matplotlib.pyplot as plt\n",
    "import pandas as pd\n",
    "import numpy as np\n",
    "\n",
    "%matplotlib inline \n",
    "\n",
    "fromdate = '2008-01-01'\n",
    "todate = '2018-12-31'\n",
    "#listofdoctypes = ['ad (print)','nrc (print)','volkskrant (print)', 'telegraaf (print)', 'trouw (print)']\n",
    "listofdoctypes = ['ad (print)' , 'trouw (print)', 'volkskrant (print)', 'telegraaf (print)', 'nrc (print)']\n",
    "exportfields = ['title','title_rss','doctype', 'publication_date', 'byline', 'teaser_rss', 'url',  'text']\n",
    "\n",
    "#querystring = \"text:auto-ongeluk or title:auto-ongeluk or text:auto ongeluk or title:auto ongeluk or text:auto-ongeval or title:auto-ongeval or text:verkeersongeval or title:verkeersongeval\"\n",
    "#qr1 = \"text:auto-ongeluk or title:auto-ongeluk or text:auto ongeluk or title:auto ongeluk or text:auto-ongeval or title:auto-ongeval or text:verkeersongeval or title:verkeersongeval\"\n",
    "#qr2 = \"marokkaan OR marokkanen OR marokkaans OR marokkaanse OR belg OR belgen OR belgisch OR belgische OR Marokkaan OR Marokkanen OR Marokkaans OR Marokkaanse OR Belg OR Belgen OR Belgisch OR Belgische\"\n",
    "#qr2 = '(\"seksuele intimidatie\" OR \"ongewenste intimiteiten\" OR \"ongewenst seksueel\" OR \"aanranding\" OR \"seksueel misbruik\" OR \"seksueel geweld\" OR \"verkracht\" OR \"zeden\" OR \"ontucht\")'\n",
    "#qr2 = '(\"immigratie\" OR \"vluchteling\" OR \"vluchtelingen\" OR \"immigranten\") AND (\"verkrachting\" OR \"aanranding\")'\n",
    "sex = \"'aanranding' OR 'verkrachtingen' OR 'groepsverkrachting' OR 'ontucht' OR 'incest' OR 'zedenmisdrijf' OR 'zedenmisdrijven' OR'verkrachten' OR'groepsverkrachtingen' OR'zedendelict' OR 'aanrandingen' OR'verkrachte' OR 'verkrachtingszaak' OR 'verkracht' OR 'seksuele intimidatie' OR 'seksueel misbruik' OR  'seksueel geweld' OR 'handtastelijkheden'OR  'pedofilie' OR 'vrouwenhandel' OR 'gedwongen_prostitutie' OR 'zedenmisdrijven'\"\n",
    "together = \"('aanranding' OR 'verkrachtingen' OR 'groepsverkrachting' OR 'ontucht' OR 'incest' OR 'zedenmisdrijf' OR 'zedenmisdrijven' OR'verkrachten' OR'groepsverkrachtingen' OR'zedendelict' OR 'aanrandingen' OR'verkrachte'OR 'verkrachtingszaak' OR 'verkracht' OR  'seksuele intimidatie' OR 'seksueel misbruik' OR  'seksueel geweld' OR 'handtastelijkheden' OR  'pedofilie' OR 'vrouwenhandel' OR 'gedwongen prostitutie' OR 'zedenmisdrijven') AND ('allochtoon' OR 'allochtonen' OR 'immigrant' OR 'immigranten' OR 'migrant' OR 'vluchteling' OR 'vluchtelingen' OR'eritrea' OR'syrie' OR'somalie' OR'afghanistan' OR'nigeria' OR'pakistan' OR'senegal' OR'irak' OR'bangladesh' OR'gambia' OR 'soedan')\"\n",
    "#querystring2 = '(\"Europese Raad\" OR \"Europese Commissie\" OR \"Europese Centrale Bank\" OR \"ECB\" OR \"Europese Parlement\" OR \"Europaparlement\" OR \"EU\" OR \"Europese Unie\" OR \"Europese Commissie\" OR \"Eurozone\" OR \"Eurogroep\") OR (Brussel  AND (text:\"EU\" or text:\"Europese Unie\" or text:\"Europese Commissie\" or text:\"Europees Parlement\" or text:\"Europese Parlement\" or text:\"Europaparlement\" or text:\"Europese Centrale Bank\"))'\n",
    "\n",
    "\n",
    "q = {\"query\": {\n",
    "        \"bool\": {\n",
    "           \"must\": [\n",
    "              {\"query_string\" : {\n",
    "              \"fields\" : [\"title\", \"text\"],\n",
    "              \"query\" : together}}],\n",
    "        \"filter\": [ {'bool': {'should': [{ \"match\": { \"doctype\": d}} for d in listofdoctypes]}},\n",
    "      { \"range\": { \"publication_date\": { \"gte\": fromdate, \"lt\":todate }}}]}\n",
    "        }}\n",
    "\n",
    "\n",
    "s= {\"query\": {\n",
    "        \"bool\": {\n",
    "           \"must\": [\n",
    "              {\"query_string\" : {\n",
    "              \"fields\" : [\"title\", \"text\"],\n",
    "              \"query\" : sex}}],\n",
    "        \"filter\": [ {'bool': {'should': [{ \"match\": { \"doctype\": d}} for d in listofdoctypes]}},\n",
    "      { \"range\": { \"publication_date\": { \"gte\": fromdate, \"lt\":todate }}}]}\n",
    "        }}"
   ]
  },
  {
   "cell_type": "code",
   "execution_count": 109,
   "metadata": {},
   "outputs": [
    {
     "name": "stderr",
     "output_type": "stream",
     "text": [
      "INFO:INCA:Dict input: using input as ES query\n",
      "100%|██████████| 108904/108904 [00:30<00:00, 3538.71it/s]\n"
     ]
    }
   ],
   "source": [
    "myinca.importers_exporters.export_csv(query = s, fields = exportfields)"
   ]
  },
  {
   "cell_type": "code",
   "execution_count": 191,
   "metadata": {},
   "outputs": [
    {
     "name": "stderr",
     "output_type": "stream",
     "text": [
      "INFO:INCA:Dict input: using input as ES query\n",
      "100%|██████████| 9913/9913 [00:03<00:00, 2535.73it/s]\n"
     ]
    }
   ],
   "source": [
    "myinca.importers_exporters.export_csv(query = q, fields = exportfields)"
   ]
  },
  {
   "cell_type": "code",
   "execution_count": 194,
   "metadata": {},
   "outputs": [
    {
     "name": "stdout",
     "output_type": "stream",
     "text": [
      "this is the most recently exported file: exports/INCA_export_2020_1_8_16_53_9.csv\n"
     ]
    }
   ],
   "source": [
    "# get most recent export file\n",
    "list_of_files = glob.glob('exports/*.csv') \n",
    "latest_file = max(list_of_files, key=os.path.getctime)\n",
    "print(\"this is the most recently exported file: {}\".format(latest_file))"
   ]
  },
  {
   "cell_type": "code",
   "execution_count": 112,
   "metadata": {},
   "outputs": [],
   "source": [
    "# get file with all attention for sexual assualt"
   ]
  },
  {
   "cell_type": "code",
   "execution_count": 200,
   "metadata": {},
   "outputs": [
    {
     "data": {
      "text/plain": [
       "<matplotlib.axes._subplots.AxesSubplot at 0x7f8c4060c6a0>"
      ]
     },
     "execution_count": 200,
     "metadata": {},
     "output_type": "execute_result"
    },
    {
     "data": {
      "image/png": "[encoded data removed]",
      "text/plain": [
       "<matplotlib.figure.Figure at 0x7f8c400fb438>"
      ]
     },
     "metadata": {},
     "output_type": "display_data"
    }
   ],
   "source": [
    "df = pd.read_csv(latest_file)\n",
    "df.columns = ['title','title_rss','doctype', 'publication_date', 'byline', 'teaser_rss', 'url',  'text']\n",
    "\n",
    "#to replicate:\n",
    "#df = pd.read_csv('data/raw/attention_for_sexualthreat.csv')\n",
    "\n",
    "df['date'] = pd.to_datetime(df['publication_date'], errors='coerce')\n",
    "df['year'] = pd.DatetimeIndex(df['date']).year\n",
    "df['month'] = pd.DatetimeIndex(df['date']).month\n",
    "df['year']\n",
    "df['YearMonth'] = df['date'].map(lambda x: 100*x.year + x.month)\n",
    "df['n'] = 1\n",
    "\n",
    "# count errors in date parsing \n",
    "df['year'].value_counts(dropna=False)\n",
    "df[df['publication_date'] == df['publication_date'].max()]\n",
    "#df['year'].value_counts(dropna=False)\n",
    "df['year'].value_counts()\n",
    "#len(df)\n",
    "#df = df[['doctype', 'publication_date', 'year', 'n', 'title']]\n",
    "#df.to_csv('attention_for_sexualthreat.csv')\n",
    "\n",
    "df_yearly_totalsex = df.groupby('year', as_index=False).agg({'n': sum})\n",
    "df_yearly_totalsex.groupby('year').agg({'n': sum}).plot()"
   ]
  },
  {
   "cell_type": "code",
   "execution_count": null,
   "metadata": {},
   "outputs": [],
   "source": [
    "#get file with attention for sexual threat AND minorities:"
   ]
  },
  {
   "cell_type": "code",
   "execution_count": 198,
   "metadata": {},
   "outputs": [
    {
     "data": {
      "text/plain": [
       "<matplotlib.axes._subplots.AxesSubplot at 0x7f8c3931dc88>"
      ]
     },
     "execution_count": 198,
     "metadata": {},
     "output_type": "execute_result"
    },
    {
     "data": {
      "image/png": "[encoded data removed]",
      "text/plain": [
       "<matplotlib.figure.Figure at 0x7f8c37e681d0>"
      ]
     },
     "metadata": {},
     "output_type": "display_data"
    }
   ],
   "source": [
    "df = pd.read_csv(latest_file)\n",
    "df.columns = ['title','title_rss','doctype', 'publication_date', 'byline', 'teaser_rss', 'url',  'text']\n",
    "\n",
    "#to replicate:\n",
    "\n",
    "#df = pd.read_csv('attention_for_minorities_and_sexualthreat.csv')\n",
    "\n",
    "df['date'] = pd.to_datetime(df['publication_date'], errors='coerce')\n",
    "df['year'] = pd.DatetimeIndex(df['date']).year\n",
    "df['month'] = pd.DatetimeIndex(df['date']).month\n",
    "df['year']\n",
    "df['YearMonth'] = df['date'].map(lambda x: 100*x.year + x.month)\n",
    "df['n'] = 1\n",
    "\n",
    "# count errors in date parsing \n",
    "df['year'].value_counts(dropna=False)\n",
    "df[df['publication_date'] == df['publication_date'].max()]\n",
    "#df['year'].value_counts(dropna=False)\n",
    "df['year'].value_counts()\n",
    "#len(df)\n",
    "df = df[['doctype', 'publication_date', 'year', 'n', 'title']]\n",
    "df.to_csv('attention_for_minorities_and_sexualthreat.csv')\n",
    "\n",
    "df_yearly = df.groupby('year', as_index=False).agg({'n': sum})\n",
    "df_yearly.groupby('year').agg({'n': sum}).plot()\n"
   ]
  },
  {
   "cell_type": "code",
   "execution_count": null,
   "metadata": {},
   "outputs": [],
   "source": [
    "## get total attention in newspapers"
   ]
  },
  {
   "cell_type": "code",
   "execution_count": 81,
   "metadata": {},
   "outputs": [
    {
     "name": "stderr",
     "output_type": "stream",
     "text": [
      "INFO:INCA:Calling timeline generator...\n",
      "INFO:INCA:Saving timeline to timeline_export.csv\n"
     ]
    }
   ],
   "source": [
    "columnstokeep = ['timestamp','1. doctype: \"...']\n",
    "\n",
    "g = myinca.importers_exporters.export_timeline(queries='doctype: \"volkskrant (print)\"', timefield='publication_date', granularity='year')\n",
    "volkskrant = pd.read_csv('timeline_export.csv')\n",
    "volkskrant = volkskrant[columnstokeep]\n",
    "volkskrant.rename(columns={'1. doctype: \"...' : 'vk'}, inplace=True)"
   ]
  },
  {
   "cell_type": "code",
   "execution_count": 83,
   "metadata": {},
   "outputs": [
    {
     "name": "stderr",
     "output_type": "stream",
     "text": [
      "INFO:INCA:Calling timeline generator...\n",
      "INFO:INCA:Saving timeline to timeline_export.csv\n"
     ]
    }
   ],
   "source": [
    "g = myinca.importers_exporters.export_timeline(queries='doctype: \"ad (print)\"', timefield='publication_date', granularity='year')\n",
    "ad = pd.read_csv('timeline_export.csv')\n",
    "ad = ad[columnstokeep]\n",
    "ad.rename(columns={'1. doctype: \"...' : 'ad'}, inplace=True)"
   ]
  },
  {
   "cell_type": "code",
   "execution_count": 84,
   "metadata": {},
   "outputs": [
    {
     "name": "stderr",
     "output_type": "stream",
     "text": [
      "INFO:INCA:Calling timeline generator...\n",
      "INFO:INCA:Saving timeline to timeline_export.csv\n"
     ]
    }
   ],
   "source": [
    "g = myinca.importers_exporters.export_timeline(queries='doctype: \"telegraaf (print)\"', timefield='publication_date', granularity='year')\n",
    "tel = pd.read_csv('timeline_export.csv')\n",
    "tel = tel[columnstokeep]\n",
    "tel.rename(columns={'1. doctype: \"...' : 'tel'}, inplace=True)"
   ]
  },
  {
   "cell_type": "code",
   "execution_count": 86,
   "metadata": {},
   "outputs": [
    {
     "name": "stderr",
     "output_type": "stream",
     "text": [
      "INFO:INCA:Calling timeline generator...\n",
      "INFO:INCA:Saving timeline to timeline_export.csv\n"
     ]
    }
   ],
   "source": [
    "g = myinca.importers_exporters.export_timeline(queries='doctype: \"nrc (print)\"', timefield='publication_date', granularity='year')\n",
    "nrc = pd.read_csv('timeline_export.csv')\n",
    "\n",
    "nrc = nrc[columnstokeep]\n",
    "nrc.rename(columns={'1. doctype: \"...' : 'nrc'}, inplace=True)"
   ]
  },
  {
   "cell_type": "code",
   "execution_count": 88,
   "metadata": {},
   "outputs": [
    {
     "name": "stderr",
     "output_type": "stream",
     "text": [
      "INFO:INCA:Calling timeline generator...\n",
      "INFO:INCA:Saving timeline to timeline_export.csv\n"
     ]
    }
   ],
   "source": [
    "g = myinca.importers_exporters.export_timeline(queries='doctype: \"trouw (print)\"', timefield='publication_date', granularity='year')\n",
    "trouw = pd.read_csv('timeline_export.csv')\n",
    "\n",
    "trouw = trouw[columnstokeep]\n",
    "trouw.rename(columns={'1. doctype: \"...' : 'trouw'}, inplace=True)"
   ]
  },
  {
   "cell_type": "code",
   "execution_count": 94,
   "metadata": {},
   "outputs": [],
   "source": [
    "one = pd.merge(nrc, trouw, how='inner', on='timestamp')\n",
    "one = pd.merge(one, tel, how='inner', on='timestamp')\n",
    "one = pd.merge(one, ad, how='inner', on='timestamp')\n",
    "join_attention = pd.merge(one, volkskrant, how='inner', on='timestamp')\n",
    "\n",
    "join_attention['date'] = pd.to_datetime(join_attention['timestamp'], errors='coerce')"
   ]
  },
  {
   "cell_type": "code",
   "execution_count": 96,
   "metadata": {},
   "outputs": [],
   "source": [
    "join_attention['year'] = pd.DatetimeIndex(join_attention['date']).year"
   ]
  },
  {
   "cell_type": "code",
   "execution_count": 202,
   "metadata": {},
   "outputs": [],
   "source": [
    "join_attention['total_attention'] = join_attention[['ad', 'vk', 'tel', 'trouw', 'nrc']].sum(axis=1)\n",
    "join_attention.to_csv('total_newsattention.csv')"
   ]
  }
 ],
 "metadata": {
  "kernelspec": {
   "display_name": "Python 3",
   "language": "python",
   "name": "python3"
  },
  "language_info": {
   "codemirror_mode": {
    "name": "ipython",
    "version": 3
   },
   "file_extension": ".py",
   "mimetype": "text/x-python",
   "name": "python",
   "nbconvert_exporter": "python",
   "pygments_lexer": "ipython3",
   "version": "3.5.2"
  }
 },
 "nbformat": 4,
 "nbformat_minor": 2
}
